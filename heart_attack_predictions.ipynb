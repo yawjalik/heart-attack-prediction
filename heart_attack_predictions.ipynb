{
 "cells": [
  {
   "cell_type": "markdown",
   "id": "d82463a6",
   "metadata": {},
   "source": [
    "## Importing data"
   ]
  },
  {
   "cell_type": "code",
   "execution_count": 1,
   "id": "f8051333",
   "metadata": {},
   "outputs": [],
   "source": [
    "import pandas as pd"
   ]
  },
  {
   "cell_type": "code",
   "execution_count": 2,
   "id": "f1dd17fe",
   "metadata": {},
   "outputs": [],
   "source": [
    "data = pd.read_csv('data/heart.csv')\n",
    "o2 = pd.read_csv('data/o2Saturation.csv')"
   ]
  },
  {
   "cell_type": "markdown",
   "id": "4c0b8be2",
   "metadata": {},
   "source": [
    "## Preprocessing"
   ]
  },
  {
   "cell_type": "code",
   "execution_count": 3,
   "id": "5456d4b9",
   "metadata": {},
   "outputs": [],
   "source": [
    "from sklearn.preprocessing import RobustScaler\n",
    "from sklearn.model_selection import train_test_split"
   ]
  },
  {
   "cell_type": "code",
   "execution_count": 4,
   "id": "239d9d15",
   "metadata": {},
   "outputs": [
    {
     "data": {
      "text/plain": [
       "Index(['98.6'], dtype='object')"
      ]
     },
     "execution_count": 4,
     "metadata": {},
     "output_type": "execute_result"
    }
   ],
   "source": [
    "o2.columns"
   ]
  },
  {
   "cell_type": "code",
   "execution_count": 5,
   "id": "2631758f",
   "metadata": {},
   "outputs": [],
   "source": [
    "o2 = o2.rename(columns={\"98.6\": \"o2Saturation\"})\n",
    "data['o2Saturation'] = o2"
   ]
  },
  {
   "cell_type": "code",
   "execution_count": 6,
   "id": "c86b17bc",
   "metadata": {},
   "outputs": [],
   "source": [
    "cont_columns = ['age', 'trtbps', 'chol', 'thalachh', 'oldpeak']\n",
    "cat_columns = ['sex', 'cp', 'fbs', 'restecg', 'exng', 'slp', 'caa', 'thall', 'o2Saturation']"
   ]
  },
  {
   "cell_type": "code",
   "execution_count": 7,
   "id": "60e2b3d0",
   "metadata": {},
   "outputs": [],
   "source": [
    "data1 = data\n",
    "data1 = pd.get_dummies(data1, columns=cat_columns, drop_first=True)"
   ]
  },
  {
   "cell_type": "code",
   "execution_count": 8,
   "id": "ec0ad6f8",
   "metadata": {},
   "outputs": [],
   "source": [
    "X = data1.drop(['output'], axis=1)\n",
    "y = data1['output']"
   ]
  },
  {
   "cell_type": "code",
   "execution_count": 9,
   "id": "bd2b648f",
   "metadata": {},
   "outputs": [],
   "source": [
    "scaler = RobustScaler()\n",
    "X[cont_columns] = scaler.fit_transform(X[cont_columns])"
   ]
  },
  {
   "cell_type": "code",
   "execution_count": 10,
   "id": "ee343191",
   "metadata": {},
   "outputs": [],
   "source": [
    "X_train, X_test, y_train, y_test = train_test_split(X, y, test_size=0.2, random_state=1)"
   ]
  },
  {
   "cell_type": "code",
   "execution_count": 11,
   "id": "623bab77",
   "metadata": {},
   "outputs": [
    {
     "data": {
      "text/html": [
       "<div>\n",
       "<style scoped>\n",
       "    .dataframe tbody tr th:only-of-type {\n",
       "        vertical-align: middle;\n",
       "    }\n",
       "\n",
       "    .dataframe tbody tr th {\n",
       "        vertical-align: top;\n",
       "    }\n",
       "\n",
       "    .dataframe thead th {\n",
       "        text-align: right;\n",
       "    }\n",
       "</style>\n",
       "<table border=\"1\" class=\"dataframe\">\n",
       "  <thead>\n",
       "    <tr style=\"text-align: right;\">\n",
       "      <th></th>\n",
       "      <th>age</th>\n",
       "      <th>trtbps</th>\n",
       "      <th>chol</th>\n",
       "      <th>thalachh</th>\n",
       "      <th>oldpeak</th>\n",
       "      <th>sex_1</th>\n",
       "      <th>cp_1</th>\n",
       "      <th>cp_2</th>\n",
       "      <th>cp_3</th>\n",
       "      <th>fbs_1</th>\n",
       "      <th>...</th>\n",
       "      <th>caa_4</th>\n",
       "      <th>thall_1</th>\n",
       "      <th>thall_2</th>\n",
       "      <th>thall_3</th>\n",
       "      <th>o2Saturation_97.0</th>\n",
       "      <th>o2Saturation_97.1</th>\n",
       "      <th>o2Saturation_97.5</th>\n",
       "      <th>o2Saturation_98.0</th>\n",
       "      <th>o2Saturation_98.1</th>\n",
       "      <th>o2Saturation_98.6</th>\n",
       "    </tr>\n",
       "  </thead>\n",
       "  <tbody>\n",
       "    <tr>\n",
       "      <th>62</th>\n",
       "      <td>-0.222222</td>\n",
       "      <td>-0.6</td>\n",
       "      <td>-0.850394</td>\n",
       "      <td>1.138462</td>\n",
       "      <td>-0.5000</td>\n",
       "      <td>1</td>\n",
       "      <td>0</td>\n",
       "      <td>0</td>\n",
       "      <td>1</td>\n",
       "      <td>0</td>\n",
       "      <td>...</td>\n",
       "      <td>0</td>\n",
       "      <td>1</td>\n",
       "      <td>0</td>\n",
       "      <td>0</td>\n",
       "      <td>0</td>\n",
       "      <td>0</td>\n",
       "      <td>1</td>\n",
       "      <td>0</td>\n",
       "      <td>0</td>\n",
       "      <td>0</td>\n",
       "    </tr>\n",
       "    <tr>\n",
       "      <th>127</th>\n",
       "      <td>0.888889</td>\n",
       "      <td>1.1</td>\n",
       "      <td>0.582677</td>\n",
       "      <td>0.584615</td>\n",
       "      <td>-0.5000</td>\n",
       "      <td>0</td>\n",
       "      <td>0</td>\n",
       "      <td>1</td>\n",
       "      <td>0</td>\n",
       "      <td>0</td>\n",
       "      <td>...</td>\n",
       "      <td>0</td>\n",
       "      <td>0</td>\n",
       "      <td>1</td>\n",
       "      <td>0</td>\n",
       "      <td>0</td>\n",
       "      <td>0</td>\n",
       "      <td>1</td>\n",
       "      <td>0</td>\n",
       "      <td>0</td>\n",
       "      <td>0</td>\n",
       "    </tr>\n",
       "    <tr>\n",
       "      <th>111</th>\n",
       "      <td>0.148148</td>\n",
       "      <td>1.0</td>\n",
       "      <td>-1.795276</td>\n",
       "      <td>0.615385</td>\n",
       "      <td>-0.3750</td>\n",
       "      <td>1</td>\n",
       "      <td>0</td>\n",
       "      <td>1</td>\n",
       "      <td>0</td>\n",
       "      <td>1</td>\n",
       "      <td>...</td>\n",
       "      <td>0</td>\n",
       "      <td>0</td>\n",
       "      <td>0</td>\n",
       "      <td>1</td>\n",
       "      <td>0</td>\n",
       "      <td>0</td>\n",
       "      <td>1</td>\n",
       "      <td>0</td>\n",
       "      <td>0</td>\n",
       "      <td>0</td>\n",
       "    </tr>\n",
       "    <tr>\n",
       "      <th>287</th>\n",
       "      <td>0.148148</td>\n",
       "      <td>1.2</td>\n",
       "      <td>-0.125984</td>\n",
       "      <td>0.338462</td>\n",
       "      <td>-0.5000</td>\n",
       "      <td>1</td>\n",
       "      <td>1</td>\n",
       "      <td>0</td>\n",
       "      <td>0</td>\n",
       "      <td>0</td>\n",
       "      <td>...</td>\n",
       "      <td>0</td>\n",
       "      <td>0</td>\n",
       "      <td>1</td>\n",
       "      <td>0</td>\n",
       "      <td>0</td>\n",
       "      <td>1</td>\n",
       "      <td>0</td>\n",
       "      <td>0</td>\n",
       "      <td>0</td>\n",
       "      <td>0</td>\n",
       "    </tr>\n",
       "    <tr>\n",
       "      <th>108</th>\n",
       "      <td>-0.370370</td>\n",
       "      <td>-0.5</td>\n",
       "      <td>0.062992</td>\n",
       "      <td>0.276923</td>\n",
       "      <td>0.1875</td>\n",
       "      <td>0</td>\n",
       "      <td>1</td>\n",
       "      <td>0</td>\n",
       "      <td>0</td>\n",
       "      <td>0</td>\n",
       "      <td>...</td>\n",
       "      <td>0</td>\n",
       "      <td>0</td>\n",
       "      <td>1</td>\n",
       "      <td>0</td>\n",
       "      <td>0</td>\n",
       "      <td>0</td>\n",
       "      <td>1</td>\n",
       "      <td>0</td>\n",
       "      <td>0</td>\n",
       "      <td>0</td>\n",
       "    </tr>\n",
       "  </tbody>\n",
       "</table>\n",
       "<p>5 rows × 28 columns</p>\n",
       "</div>"
      ],
      "text/plain": [
       "          age  trtbps      chol  thalachh  oldpeak  sex_1  cp_1  cp_2  cp_3  \\\n",
       "62  -0.222222    -0.6 -0.850394  1.138462  -0.5000      1     0     0     1   \n",
       "127  0.888889     1.1  0.582677  0.584615  -0.5000      0     0     1     0   \n",
       "111  0.148148     1.0 -1.795276  0.615385  -0.3750      1     0     1     0   \n",
       "287  0.148148     1.2 -0.125984  0.338462  -0.5000      1     1     0     0   \n",
       "108 -0.370370    -0.5  0.062992  0.276923   0.1875      0     1     0     0   \n",
       "\n",
       "     fbs_1  ...  caa_4  thall_1  thall_2  thall_3  o2Saturation_97.0  \\\n",
       "62       0  ...      0        1        0        0                  0   \n",
       "127      0  ...      0        0        1        0                  0   \n",
       "111      1  ...      0        0        0        1                  0   \n",
       "287      0  ...      0        0        1        0                  0   \n",
       "108      0  ...      0        0        1        0                  0   \n",
       "\n",
       "     o2Saturation_97.1  o2Saturation_97.5  o2Saturation_98.0  \\\n",
       "62                   0                  1                  0   \n",
       "127                  0                  1                  0   \n",
       "111                  0                  1                  0   \n",
       "287                  1                  0                  0   \n",
       "108                  0                  1                  0   \n",
       "\n",
       "     o2Saturation_98.1  o2Saturation_98.6  \n",
       "62                   0                  0  \n",
       "127                  0                  0  \n",
       "111                  0                  0  \n",
       "287                  0                  0  \n",
       "108                  0                  0  \n",
       "\n",
       "[5 rows x 28 columns]"
      ]
     },
     "execution_count": 11,
     "metadata": {},
     "output_type": "execute_result"
    }
   ],
   "source": [
    "X_train.head()"
   ]
  },
  {
   "cell_type": "markdown",
   "id": "37c6e498",
   "metadata": {},
   "source": [
    "## Selecting models"
   ]
  },
  {
   "cell_type": "code",
   "execution_count": 12,
   "id": "9b9fd146",
   "metadata": {},
   "outputs": [],
   "source": [
    "from sklearn.svm import SVC\n",
    "from sklearn.ensemble import RandomForestClassifier\n",
    "\n",
    "from sklearn.metrics import accuracy_score, mean_absolute_error"
   ]
  },
  {
   "cell_type": "code",
   "execution_count": 13,
   "id": "23fa2203",
   "metadata": {},
   "outputs": [
    {
     "name": "stdout",
     "output_type": "stream",
     "text": [
      "Train accuracy score (SVM): 0.9380165289256198\n",
      "Test accuracy score (SVM): 0.7868852459016393\n"
     ]
    }
   ],
   "source": [
    "# SVM\n",
    "model = SVC(random_state=1)\n",
    "train_score = model.fit(X_train, y_train).score(X_train, y_train)\n",
    "preds = model.predict(X_test)\n",
    "print(f'Train accuracy score (SVM): {train_score}')\n",
    "print(f'Test accuracy score (SVM): {accuracy_score(y_test, preds)}')"
   ]
  },
  {
   "cell_type": "code",
   "execution_count": 14,
   "id": "59650bde",
   "metadata": {},
   "outputs": [
    {
     "name": "stdout",
     "output_type": "stream",
     "text": [
      "Train accuracy score (Random Forest): 1.0\n",
      "Test accuracy score (Random Forest): 0.7704918032786885\n"
     ]
    }
   ],
   "source": [
    "# Random Forest\n",
    "model = RandomForestClassifier(random_state=1)\n",
    "train_score = model.fit(X_train, y_train).score(X_train, y_train)\n",
    "preds = model.predict(X_test)\n",
    "print(f'Train accuracy score (Random Forest): {train_score}')\n",
    "print(f'Test accuracy score (Random Forest): {accuracy_score(y_test, preds)}')"
   ]
  },
  {
   "cell_type": "markdown",
   "id": "dcc34516",
   "metadata": {},
   "source": [
    "## Selecting best parameters (C, gamma, degree)"
   ]
  },
  {
   "cell_type": "code",
   "execution_count": 15,
   "id": "bb9d2635",
   "metadata": {},
   "outputs": [],
   "source": [
    "from sklearn.model_selection import GridSearchCV"
   ]
  },
  {
   "cell_type": "code",
   "execution_count": 16,
   "id": "c89d0f12",
   "metadata": {},
   "outputs": [
    {
     "name": "stdout",
     "output_type": "stream",
     "text": [
      "Best params = {'C': 30.0, 'degree': 2, 'gamma': 0.01}\n",
      "Best score = 0.8641156462585033\n"
     ]
    }
   ],
   "source": [
    "model = SVC()\n",
    "\n",
    "parameters = {\n",
    "    'C': [0.1, 0.3, 0.5, 1.0, 3.0, 10.0, 15.0, 30.0],\n",
    "    'gamma': [0.0001, 0.0005, 0.001, 0.005, 0.01, 0.05, 0.1, 0.5, 1, 5],\n",
    "    'degree': [2, 3, 4, 5]\n",
    "}\n",
    "\n",
    "searcher = GridSearchCV(model, parameters)\n",
    "searcher.fit(X_train, y_train)\n",
    "\n",
    "print(f\"Best params = {searcher.best_params_}\")\n",
    "print(f\"Best score = {searcher.best_score_}\")"
   ]
  },
  {
   "cell_type": "markdown",
   "id": "bab5e2cd",
   "metadata": {},
   "source": [
    "## Predictions"
   ]
  },
  {
   "cell_type": "code",
   "execution_count": 17,
   "id": "f1612763",
   "metadata": {},
   "outputs": [
    {
     "name": "stdout",
     "output_type": "stream",
     "text": [
      "Test accuracy: 0.8360655737704918\n"
     ]
    }
   ],
   "source": [
    "preds = searcher.predict(X_test)\n",
    "print(f'Test accuracy: {accuracy_score(preds, y_test)}')"
   ]
  }
 ],
 "metadata": {
  "kernelspec": {
   "display_name": ".venv",
   "language": "python",
   "name": ".venv"
  },
  "language_info": {
   "codemirror_mode": {
    "name": "ipython",
    "version": 3
   },
   "file_extension": ".py",
   "mimetype": "text/x-python",
   "name": "python",
   "nbconvert_exporter": "python",
   "pygments_lexer": "ipython3",
   "version": "3.10.0"
  }
 },
 "nbformat": 4,
 "nbformat_minor": 5
}
